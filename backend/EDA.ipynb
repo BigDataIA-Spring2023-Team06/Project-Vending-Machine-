{
 "cells": [
  {
   "cell_type": "code",
   "execution_count": null,
   "id": "82de98ae",
   "metadata": {},
   "outputs": [],
   "source": [
    "#"
   ]
  },
  {
   "cell_type": "code",
   "execution_count": null,
   "id": "eaa328da",
   "metadata": {},
   "outputs": [],
   "source": [
    "# importing necessary packages\n",
    "import pandas as pd\n",
    "import matplotlib.pyplot as plt\n",
    "import seaborn as sns\n",
    "\n"
   ]
  },
  {
   "cell_type": "code",
   "execution_count": null,
   "id": "c2693a24",
   "metadata": {},
   "outputs": [],
   "source": [
    "# loading the dataset\n",
    "df = pd.read_csv(\"https://raw.githubusercontent.com/midhunmohank/INFO6105/main/advertising.csv\")\n",
    "\n"
   ]
  },
  {
   "cell_type": "code",
   "execution_count": null,
   "id": "f8cdba10",
   "metadata": {},
   "outputs": [],
   "source": [
    "# checking for null values\n",
    "print(df.isnull().sum())\n",
    "\n"
   ]
  },
  {
   "cell_type": "code",
   "execution_count": null,
   "id": "d49f1c02",
   "metadata": {},
   "outputs": [],
   "source": [
    "# displaying the first few rows of the dataset\n",
    "print(df.head())\n",
    "\n"
   ]
  },
  {
   "cell_type": "code",
   "execution_count": null,
   "id": "60f4273e",
   "metadata": {},
   "outputs": [],
   "source": [
    "# checking the data types of the columns\n",
    "print(df.dtypes)\n",
    "\n"
   ]
  },
  {
   "cell_type": "code",
   "execution_count": null,
   "id": "012f64c1",
   "metadata": {},
   "outputs": [],
   "source": [
    "# summary statistics of the dataset\n",
    "print(df.describe())\n",
    "\n"
   ]
  },
  {
   "cell_type": "code",
   "execution_count": null,
   "id": "f8a2555d",
   "metadata": {},
   "outputs": [],
   "source": [
    "# Plotting the distribution of the variables\n",
    "plt.figure(figsize=(15, 5))\n",
    "\n",
    "plt.subplot(1, 3, 1)\n",
    "sns.histplot(x=\"TV\", data=df, kde=True, color=\"red\")\n",
    "plt.title(\"TV\")\n",
    "\n",
    "plt.subplot(1, 3, 2)\n",
    "sns.histplot(x=\"Radio\", data=df, kde=True, color=\"green\")\n",
    "plt.title(\"Radio\")\n",
    "\n",
    "plt.subplot(1, 3, 3)\n",
    "sns.histplot(x=\"Newspaper\", data=df, kde=True, color=\"blue\")\n",
    "plt.title(\"Newspaper\")\n",
    "\n",
    "plt.show()\n",
    "\n"
   ]
  },
  {
   "cell_type": "code",
   "execution_count": null,
   "id": "df53a438",
   "metadata": {},
   "outputs": [],
   "source": [
    "# plotting the relationship between the predictor variables and the response variable\n",
    "sns.pairplot(df, x_vars=[\"TV\", \"Radio\", \"Newspaper\"], y_vars=[\"Sales\"], height=4, aspect=1, kind=\"scatter\")\n",
    "plt.show()"
   ]
  }
 ],
 "metadata": {},
 "nbformat": 4,
 "nbformat_minor": 5
}
