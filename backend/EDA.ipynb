{
 "cells": [
  {
   "cell_type": "code",
   "execution_count": null,
   "id": "cb0d8929",
   "metadata": {},
   "outputs": [],
   "source": [
    "#"
   ]
  },
  {
   "cell_type": "code",
   "execution_count": null,
   "id": "64ced24c",
   "metadata": {},
   "outputs": [],
   "source": [
    "# Importing necessary libraries\n",
    "import pandas as pd\n",
    "import numpy as np\n",
    "import matplotlib.pyplot as plt\n",
    "import seaborn as sns\n",
    "\n"
   ]
  },
  {
   "cell_type": "code",
   "execution_count": null,
   "id": "75e3bb57",
   "metadata": {},
   "outputs": [],
   "source": [
    "# Reading the dataset\n",
    "df = pd.read_csv('https://raw.githubusercontent.com/midhunmohank/INFO6105/main/advertising.csv')\n",
    "\n"
   ]
  },
  {
   "cell_type": "code",
   "execution_count": null,
   "id": "aee796b2",
   "metadata": {},
   "outputs": [],
   "source": [
    "# Display the first 5 rows of the dataset\n",
    "df.head()\n",
    "\n"
   ]
  },
  {
   "cell_type": "code",
   "execution_count": null,
   "id": "f162ff9f",
   "metadata": {},
   "outputs": [],
   "source": [
    "# Checking for null values in the dataset \n",
    "df.isnull().sum()\n",
    "\n"
   ]
  },
  {
   "cell_type": "code",
   "execution_count": null,
   "id": "c670ca6e",
   "metadata": {},
   "outputs": [],
   "source": [
    "# Displaying information about the dataset\n",
    "df.info()\n",
    "\n"
   ]
  },
  {
   "cell_type": "code",
   "execution_count": null,
   "id": "d097f547",
   "metadata": {},
   "outputs": [],
   "source": [
    "# Descriptive statistics of the dataset\n",
    "df.describe()\n",
    "\n"
   ]
  },
  {
   "cell_type": "code",
   "execution_count": null,
   "id": "1039db96",
   "metadata": {},
   "outputs": [],
   "source": [
    "# Pairplot for visualizing the distribution of each variable \n",
    "sns.pairplot(df)\n",
    "\n"
   ]
  },
  {
   "cell_type": "code",
   "execution_count": null,
   "id": "29b02f59",
   "metadata": {},
   "outputs": [],
   "source": [
    "# Checking the correlation between variables using heatmap.\n",
    "sns.heatmap(df.corr(), cmap=\"YlGnBu\", annot=True)\n",
    "\n"
   ]
  },
  {
   "cell_type": "code",
   "execution_count": null,
   "id": "10b28258",
   "metadata": {},
   "outputs": [],
   "source": [
    "# Distribution of Sales\n",
    "sns.distplot(df['Sales'])\n",
    "\n"
   ]
  },
  {
   "cell_type": "code",
   "execution_count": null,
   "id": "30a8cc7b",
   "metadata": {},
   "outputs": [],
   "source": [
    "# Distribution of TV advertising expenditure\n",
    "sns.distplot(df['TV'])\n",
    "\n"
   ]
  },
  {
   "cell_type": "code",
   "execution_count": null,
   "id": "2e767ab7",
   "metadata": {},
   "outputs": [],
   "source": [
    "# Distribution of Radio advertising expenditure\n",
    "sns.distplot(df['Radio'])\n",
    "\n"
   ]
  },
  {
   "cell_type": "code",
   "execution_count": null,
   "id": "baac9762",
   "metadata": {},
   "outputs": [],
   "source": [
    "# Distribution of Newspaper advertising expenditure\n",
    "sns.distplot(df['Newspaper'])"
   ]
  }
 ],
 "metadata": {},
 "nbformat": 4,
 "nbformat_minor": 5
}
